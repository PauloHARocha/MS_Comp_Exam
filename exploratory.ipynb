{
 "cells": [
  {
   "cell_type": "code",
   "execution_count": 1,
   "metadata": {
    "vscode": {
     "languageId": "r"
    }
   },
   "outputs": [
    {
     "name": "stderr",
     "output_type": "stream",
     "text": [
      "\n",
      "Attaching package: ‘dplyr’\n",
      "\n",
      "\n",
      "The following objects are masked from ‘package:stats’:\n",
      "\n",
      "    filter, lag\n",
      "\n",
      "\n",
      "The following objects are masked from ‘package:base’:\n",
      "\n",
      "    intersect, setdiff, setequal, union\n",
      "\n",
      "\n"
     ]
    }
   ],
   "source": [
    "library(dplyr)"
   ]
  },
  {
   "cell_type": "code",
   "execution_count": null,
   "metadata": {
    "vscode": {
     "languageId": "r"
    }
   },
   "outputs": [],
   "source": [
    "# AJ32 - FEEL DEPRESSED PAST 30 DAYS\n",
    "# AF66 - FEEL DEPRESSED WORST MONTH\n",
    "# AF79 - COMPLETED RECOMMENDED MENTAL HEALTH TREATMENT\n",
    "# AF86 - EVER THOUGHT TO COMMIT SUICIDE\n",
    "# AF80 - MAIN REASON QUIT MENTAL HEALTH TREATMENT"
   ]
  },
  {
   "cell_type": "code",
   "execution_count": null,
   "metadata": {
    "vscode": {
     "languageId": "r"
    }
   },
   "outputs": [],
   "source": [
    "# Unavailable codes\n",
    "# -1:   INAPPLICABLE. \n",
    "# -2:   PROXY SKIPPED. \n",
    "# -5:   CHILD/HOUSEHOLD INFORMATION NOT COLLECTED FOR TEEN AND CHILD INTERVIEWS. \n",
    "# -7:   REFUSED. \n",
    "# -8:   DON’T KNOW. \n",
    "# -9:   NOT ASCERTAINED. "
   ]
  },
  {
   "cell_type": "code",
   "execution_count": null,
   "metadata": {
    "vscode": {
     "languageId": "r"
    }
   },
   "outputs": [],
   "source": [
    "# read csv file to check if it was saved correctly\n",
    "df = read.csv(\"data/adult_2015_2019_vars_interest.csv\")\n",
    "\n",
    "dim(df)\n",
    "head(df)"
   ]
  }
 ],
 "metadata": {
  "kernelspec": {
   "display_name": "R",
   "language": "R",
   "name": "ir"
  },
  "language_info": {
   "codemirror_mode": "r",
   "file_extension": ".r",
   "mimetype": "text/x-r-source",
   "name": "R",
   "pygments_lexer": "r",
   "version": "4.2.3"
  },
  "orig_nbformat": 4
 },
 "nbformat": 4,
 "nbformat_minor": 2
}
