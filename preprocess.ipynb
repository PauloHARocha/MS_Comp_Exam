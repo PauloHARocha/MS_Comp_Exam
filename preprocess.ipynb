{
 "cells": [
  {
   "cell_type": "code",
   "execution_count": 57,
   "metadata": {
    "vscode": {
     "languageId": "r"
    }
   },
   "outputs": [
    {
     "data": {
      "text/html": [
       "48"
      ],
      "text/latex": [
       "48"
      ],
      "text/markdown": [
       "48"
      ],
      "text/plain": [
       "[1] 48"
      ]
     },
     "metadata": {},
     "output_type": "display_data"
    },
    {
     "data": {
      "text/html": [
       "<style>\n",
       ".list-inline {list-style: none; margin:0; padding: 0}\n",
       ".list-inline>li {display: inline-block}\n",
       ".list-inline>li:not(:last-child)::after {content: \"\\00b7\"; padding: 0 .5ex}\n",
       "</style>\n",
       "<ol class=list-inline><li>'AF66'</li><li>'AJ32'</li><li>'AF79'</li><li>'AF86'</li><li>'AF80'</li><li>'AB17'</li><li>'AB34'</li><li>'AG10'</li><li>'AG11'</li><li>'AG22'</li><li>'AH33NEW'</li><li>'AH34NEW'</li><li>'AH35NEW'</li><li>'AK25'</li><li>'AK4'</li><li>'AKWKLNG'</li><li>'AM19'</li><li>'AM20'</li><li>'AM21'</li><li>'BMI_P'</li><li>'CITIZEN2'</li><li>'DIABETES'</li><li>'DSTRS12'</li><li>'DSTRS30'</li><li>'OMBSRR_P1'</li><li>'RACECN_P1'</li><li>'RACEDF_P1'</li><li>'RACEHP2_P1'</li><li>'SRAGE_P1'</li><li>'SRSEX'</li><li>'AA5C'</li><li>'MARIT'</li><li>'AB1'</li><li>'AE15A'</li><li>'AD32_P1'</li><li>'OVRWT'</li><li>'DISTRESS'</li><li>'DSTRS_P1'</li><li>'AH44'</li><li>'AH43A'</li><li>'AL22'</li><li>'AK28'</li><li>'AH130'</li><li>'AH85B'</li><li>'AK22_P1'</li><li>'AE_FRUIT'</li><li>'AE_VEGI'</li><li>'YEAR'</li></ol>\n"
      ],
      "text/latex": [
       "\\begin{enumerate*}\n",
       "\\item 'AF66'\n",
       "\\item 'AJ32'\n",
       "\\item 'AF79'\n",
       "\\item 'AF86'\n",
       "\\item 'AF80'\n",
       "\\item 'AB17'\n",
       "\\item 'AB34'\n",
       "\\item 'AG10'\n",
       "\\item 'AG11'\n",
       "\\item 'AG22'\n",
       "\\item 'AH33NEW'\n",
       "\\item 'AH34NEW'\n",
       "\\item 'AH35NEW'\n",
       "\\item 'AK25'\n",
       "\\item 'AK4'\n",
       "\\item 'AKWKLNG'\n",
       "\\item 'AM19'\n",
       "\\item 'AM20'\n",
       "\\item 'AM21'\n",
       "\\item 'BMI\\_P'\n",
       "\\item 'CITIZEN2'\n",
       "\\item 'DIABETES'\n",
       "\\item 'DSTRS12'\n",
       "\\item 'DSTRS30'\n",
       "\\item 'OMBSRR\\_P1'\n",
       "\\item 'RACECN\\_P1'\n",
       "\\item 'RACEDF\\_P1'\n",
       "\\item 'RACEHP2\\_P1'\n",
       "\\item 'SRAGE\\_P1'\n",
       "\\item 'SRSEX'\n",
       "\\item 'AA5C'\n",
       "\\item 'MARIT'\n",
       "\\item 'AB1'\n",
       "\\item 'AE15A'\n",
       "\\item 'AD32\\_P1'\n",
       "\\item 'OVRWT'\n",
       "\\item 'DISTRESS'\n",
       "\\item 'DSTRS\\_P1'\n",
       "\\item 'AH44'\n",
       "\\item 'AH43A'\n",
       "\\item 'AL22'\n",
       "\\item 'AK28'\n",
       "\\item 'AH130'\n",
       "\\item 'AH85B'\n",
       "\\item 'AK22\\_P1'\n",
       "\\item 'AE\\_FRUIT'\n",
       "\\item 'AE\\_VEGI'\n",
       "\\item 'YEAR'\n",
       "\\end{enumerate*}\n"
      ],
      "text/markdown": [
       "1. 'AF66'\n",
       "2. 'AJ32'\n",
       "3. 'AF79'\n",
       "4. 'AF86'\n",
       "5. 'AF80'\n",
       "6. 'AB17'\n",
       "7. 'AB34'\n",
       "8. 'AG10'\n",
       "9. 'AG11'\n",
       "10. 'AG22'\n",
       "11. 'AH33NEW'\n",
       "12. 'AH34NEW'\n",
       "13. 'AH35NEW'\n",
       "14. 'AK25'\n",
       "15. 'AK4'\n",
       "16. 'AKWKLNG'\n",
       "17. 'AM19'\n",
       "18. 'AM20'\n",
       "19. 'AM21'\n",
       "20. 'BMI_P'\n",
       "21. 'CITIZEN2'\n",
       "22. 'DIABETES'\n",
       "23. 'DSTRS12'\n",
       "24. 'DSTRS30'\n",
       "25. 'OMBSRR_P1'\n",
       "26. 'RACECN_P1'\n",
       "27. 'RACEDF_P1'\n",
       "28. 'RACEHP2_P1'\n",
       "29. 'SRAGE_P1'\n",
       "30. 'SRSEX'\n",
       "31. 'AA5C'\n",
       "32. 'MARIT'\n",
       "33. 'AB1'\n",
       "34. 'AE15A'\n",
       "35. 'AD32_P1'\n",
       "36. 'OVRWT'\n",
       "37. 'DISTRESS'\n",
       "38. 'DSTRS_P1'\n",
       "39. 'AH44'\n",
       "40. 'AH43A'\n",
       "41. 'AL22'\n",
       "42. 'AK28'\n",
       "43. 'AH130'\n",
       "44. 'AH85B'\n",
       "45. 'AK22_P1'\n",
       "46. 'AE_FRUIT'\n",
       "47. 'AE_VEGI'\n",
       "48. 'YEAR'\n",
       "\n",
       "\n"
      ],
      "text/plain": [
       " [1] \"AF66\"       \"AJ32\"       \"AF79\"       \"AF86\"       \"AF80\"      \n",
       " [6] \"AB17\"       \"AB34\"       \"AG10\"       \"AG11\"       \"AG22\"      \n",
       "[11] \"AH33NEW\"    \"AH34NEW\"    \"AH35NEW\"    \"AK25\"       \"AK4\"       \n",
       "[16] \"AKWKLNG\"    \"AM19\"       \"AM20\"       \"AM21\"       \"BMI_P\"     \n",
       "[21] \"CITIZEN2\"   \"DIABETES\"   \"DSTRS12\"    \"DSTRS30\"    \"OMBSRR_P1\" \n",
       "[26] \"RACECN_P1\"  \"RACEDF_P1\"  \"RACEHP2_P1\" \"SRAGE_P1\"   \"SRSEX\"     \n",
       "[31] \"AA5C\"       \"MARIT\"      \"AB1\"        \"AE15A\"      \"AD32_P1\"   \n",
       "[36] \"OVRWT\"      \"DISTRESS\"   \"DSTRS_P1\"   \"AH44\"       \"AH43A\"     \n",
       "[41] \"AL22\"       \"AK28\"       \"AH130\"      \"AH85B\"      \"AK22_P1\"   \n",
       "[46] \"AE_FRUIT\"   \"AE_VEGI\"    \"YEAR\"      "
      ]
     },
     "metadata": {},
     "output_type": "display_data"
    }
   ],
   "source": [
    "library(haven)\n",
    "library(dplyr)\n",
    "\n",
    "VARS_OF_INTEREST = c(\"AF66\"\n",
    ",\"AJ32\"\n",
    ",\"AF79\"\n",
    ",\"AF86\"\n",
    ",\"AF80\" \n",
    ",\"AB17\"\n",
    ",\"AB34\"\n",
    ",\"AG10\"\n",
    ",\"AG11\"\n",
    ",\"AG22\"\n",
    ",\"AH33NEW\"\n",
    ",\"AH34NEW\"\n",
    ",\"AH35NEW\"\n",
    ",\"AK25\"\n",
    ",\"AK4\"\n",
    ",\"AKWKLNG\"\n",
    ",\"AM19\"\n",
    ",\"AM20\"\n",
    ",\"AM21\"\n",
    ",\"BMI_P\"\n",
    ",\"CITIZEN2\"\n",
    ",\"DIABETES\"\n",
    ",\"DSTRS12\"\n",
    ",\"DSTRS30\"\n",
    ",\"OMBSRR_P1\"\n",
    ",\"RACECN_P1\"\n",
    ",\"RACEDF_P1\"\n",
    ",\"RACEHP2_P1\"\n",
    ",\"SRAGE_P1\"\n",
    ",\"SRSEX\"\n",
    ",\"AA5C\"\n",
    ",\"MARIT\"\n",
    ",\"AB1\"\n",
    ",\"AE15A\"\n",
    ",\"AD32_P1\"\n",
    ",\"OVRWT\"\n",
    ",\"DISTRESS\"\n",
    ",\"DSTRS_P1\"\n",
    ",\"AH44\"\n",
    ",\"AH43A\"\n",
    ",\"AL22\"\n",
    ",\"AK28\"\n",
    ",\"AH130\"\n",
    ",\"AH85B\"\n",
    ",\"AK22_P1\"\n",
    ",\"AE_FRUIT\"\n",
    ",\"AE_VEGI\"\n",
    ",'YEAR' # added by me to have the year of each observation\n",
    ")\n",
    "\n",
    "length(VARS_OF_INTEREST)\n",
    "VARS_OF_INTEREST"
   ]
  },
  {
   "cell_type": "code",
   "execution_count": 58,
   "metadata": {
    "vscode": {
     "languageId": "r"
    }
   },
   "outputs": [],
   "source": [
    "# create a function that receives a dataframe and returns a dataframe with the variables of interest\n",
    "get_vars_of_interest <- function(df){\n",
    "    # subset the array of variables of interest with only the variables that are in the data frame\n",
    "    vars_of_interest_df = VARS_OF_INTEREST[VARS_OF_INTEREST %in% names(df)]\n",
    "\n",
    "    # subset the data frame with only the variables of interest\n",
    "    df_interest = df[vars_of_interest_df]\n",
    "\n",
    "    return(df_interest)\n",
    "}\n"
   ]
  },
  {
   "cell_type": "code",
   "execution_count": 59,
   "metadata": {
    "vscode": {
     "languageId": "r"
    }
   },
   "outputs": [],
   "source": [
    "# Import the adult SAS data file\n",
    "# import each dataset from c(2015, 2019) and add a column with the year\n",
    "# create empy array of dataframes\n",
    "df_array = list()\n",
    "for (year in c(2015, 2016, 2017, 2018, 2019)){\n",
    "    # import the data\n",
    "    df = read_sas(paste0(\"data/\",year,\"/adult_\",year,\".sas7bdat\"))\n",
    "\n",
    "    # add a column with the year\n",
    "    df$YEAR = year\n",
    "\n",
    "    #append df to array of dataframes\n",
    "    df_array[[length(df_array)+1]] = get_vars_of_interest(df)\n",
    "}"
   ]
  },
  {
   "cell_type": "code",
   "execution_count": 60,
   "metadata": {
    "vscode": {
     "languageId": "r"
    }
   },
   "outputs": [
    {
     "data": {
      "text/html": [
       "<style>\n",
       ".list-inline {list-style: none; margin:0; padding: 0}\n",
       ".list-inline>li {display: inline-block}\n",
       ".list-inline>li:not(:last-child)::after {content: \"\\00b7\"; padding: 0 .5ex}\n",
       "</style>\n",
       "<ol class=list-inline><li>106579</li><li>45</li></ol>\n"
      ],
      "text/latex": [
       "\\begin{enumerate*}\n",
       "\\item 106579\n",
       "\\item 45\n",
       "\\end{enumerate*}\n"
      ],
      "text/markdown": [
       "1. 106579\n",
       "2. 45\n",
       "\n",
       "\n"
      ],
      "text/plain": [
       "[1] 106579     45"
      ]
     },
     "metadata": {},
     "output_type": "display_data"
    },
    {
     "data": {
      "text/html": [
       "<table class=\"dataframe\">\n",
       "<caption>A tibble: 6 × 45</caption>\n",
       "<thead>\n",
       "\t<tr><th scope=col>AF66</th><th scope=col>AJ32</th><th scope=col>AB17</th><th scope=col>AB34</th><th scope=col>AG10</th><th scope=col>AG11</th><th scope=col>AG22</th><th scope=col>AH33NEW</th><th scope=col>AH34NEW</th><th scope=col>AH35NEW</th><th scope=col>⋯</th><th scope=col>AH43A</th><th scope=col>AL22</th><th scope=col>AK28</th><th scope=col>YEAR</th><th scope=col>AK22_P1</th><th scope=col>RACEHP2_P1</th><th scope=col>AH130</th><th scope=col>AH85B</th><th scope=col>AE_FRUIT</th><th scope=col>AE_VEGI</th></tr>\n",
       "\t<tr><th scope=col>&lt;dbl&gt;</th><th scope=col>&lt;dbl&gt;</th><th scope=col>&lt;dbl&gt;</th><th scope=col>&lt;dbl&gt;</th><th scope=col>&lt;dbl&gt;</th><th scope=col>&lt;dbl&gt;</th><th scope=col>&lt;dbl&gt;</th><th scope=col>&lt;dbl&gt;</th><th scope=col>&lt;dbl&gt;</th><th scope=col>&lt;dbl&gt;</th><th scope=col>⋯</th><th scope=col>&lt;dbl&gt;</th><th scope=col>&lt;dbl&gt;</th><th scope=col>&lt;dbl&gt;</th><th scope=col>&lt;dbl&gt;</th><th scope=col>&lt;dbl&gt;</th><th scope=col>&lt;dbl&gt;</th><th scope=col>&lt;dbl&gt;</th><th scope=col>&lt;dbl&gt;</th><th scope=col>&lt;dbl&gt;</th><th scope=col>&lt;dbl&gt;</th></tr>\n",
       "</thead>\n",
       "<tbody>\n",
       "\t<tr><td>-1</td><td>5</td><td>2</td><td>2</td><td>-1</td><td>-1</td><td>2</td><td>1</td><td> 1</td><td> 1</td><td>⋯</td><td> 1</td><td>-1</td><td>4</td><td>2015</td><td>NA</td><td>NA</td><td>NA</td><td>NA</td><td>NA</td><td>NA</td></tr>\n",
       "\t<tr><td>-1</td><td>5</td><td>2</td><td>2</td><td>-1</td><td>-1</td><td>2</td><td>1</td><td> 2</td><td> 1</td><td>⋯</td><td>-1</td><td>-1</td><td>2</td><td>2015</td><td>NA</td><td>NA</td><td>NA</td><td>NA</td><td>NA</td><td>NA</td></tr>\n",
       "\t<tr><td>-1</td><td>5</td><td>2</td><td>2</td><td>-1</td><td>-1</td><td>2</td><td>1</td><td> 1</td><td> 1</td><td>⋯</td><td>-1</td><td>-1</td><td>2</td><td>2015</td><td>NA</td><td>NA</td><td>NA</td><td>NA</td><td>NA</td><td>NA</td></tr>\n",
       "\t<tr><td>-1</td><td>5</td><td>2</td><td>2</td><td>-1</td><td>-1</td><td>1</td><td>1</td><td> 1</td><td> 1</td><td>⋯</td><td>-1</td><td>-1</td><td>2</td><td>2015</td><td>NA</td><td>NA</td><td>NA</td><td>NA</td><td>NA</td><td>NA</td></tr>\n",
       "\t<tr><td>-1</td><td>3</td><td>2</td><td>1</td><td>-1</td><td> 2</td><td>1</td><td>1</td><td> 1</td><td> 1</td><td>⋯</td><td>-1</td><td>-1</td><td>1</td><td>2015</td><td>NA</td><td>NA</td><td>NA</td><td>NA</td><td>NA</td><td>NA</td></tr>\n",
       "\t<tr><td>-1</td><td>5</td><td>2</td><td>2</td><td>-1</td><td> 2</td><td>1</td><td>2</td><td>-1</td><td>-1</td><td>⋯</td><td>-1</td><td>-1</td><td>1</td><td>2015</td><td>NA</td><td>NA</td><td>NA</td><td>NA</td><td>NA</td><td>NA</td></tr>\n",
       "</tbody>\n",
       "</table>\n"
      ],
      "text/latex": [
       "A tibble: 6 × 45\n",
       "\\begin{tabular}{lllllllllllllllllllll}\n",
       " AF66 & AJ32 & AB17 & AB34 & AG10 & AG11 & AG22 & AH33NEW & AH34NEW & AH35NEW & ⋯ & AH43A & AL22 & AK28 & YEAR & AK22\\_P1 & RACEHP2\\_P1 & AH130 & AH85B & AE\\_FRUIT & AE\\_VEGI\\\\\n",
       " <dbl> & <dbl> & <dbl> & <dbl> & <dbl> & <dbl> & <dbl> & <dbl> & <dbl> & <dbl> & ⋯ & <dbl> & <dbl> & <dbl> & <dbl> & <dbl> & <dbl> & <dbl> & <dbl> & <dbl> & <dbl>\\\\\n",
       "\\hline\n",
       "\t -1 & 5 & 2 & 2 & -1 & -1 & 2 & 1 &  1 &  1 & ⋯ &  1 & -1 & 4 & 2015 & NA & NA & NA & NA & NA & NA\\\\\n",
       "\t -1 & 5 & 2 & 2 & -1 & -1 & 2 & 1 &  2 &  1 & ⋯ & -1 & -1 & 2 & 2015 & NA & NA & NA & NA & NA & NA\\\\\n",
       "\t -1 & 5 & 2 & 2 & -1 & -1 & 2 & 1 &  1 &  1 & ⋯ & -1 & -1 & 2 & 2015 & NA & NA & NA & NA & NA & NA\\\\\n",
       "\t -1 & 5 & 2 & 2 & -1 & -1 & 1 & 1 &  1 &  1 & ⋯ & -1 & -1 & 2 & 2015 & NA & NA & NA & NA & NA & NA\\\\\n",
       "\t -1 & 3 & 2 & 1 & -1 &  2 & 1 & 1 &  1 &  1 & ⋯ & -1 & -1 & 1 & 2015 & NA & NA & NA & NA & NA & NA\\\\\n",
       "\t -1 & 5 & 2 & 2 & -1 &  2 & 1 & 2 & -1 & -1 & ⋯ & -1 & -1 & 1 & 2015 & NA & NA & NA & NA & NA & NA\\\\\n",
       "\\end{tabular}\n"
      ],
      "text/markdown": [
       "\n",
       "A tibble: 6 × 45\n",
       "\n",
       "| AF66 &lt;dbl&gt; | AJ32 &lt;dbl&gt; | AB17 &lt;dbl&gt; | AB34 &lt;dbl&gt; | AG10 &lt;dbl&gt; | AG11 &lt;dbl&gt; | AG22 &lt;dbl&gt; | AH33NEW &lt;dbl&gt; | AH34NEW &lt;dbl&gt; | AH35NEW &lt;dbl&gt; | ⋯ ⋯ | AH43A &lt;dbl&gt; | AL22 &lt;dbl&gt; | AK28 &lt;dbl&gt; | YEAR &lt;dbl&gt; | AK22_P1 &lt;dbl&gt; | RACEHP2_P1 &lt;dbl&gt; | AH130 &lt;dbl&gt; | AH85B &lt;dbl&gt; | AE_FRUIT &lt;dbl&gt; | AE_VEGI &lt;dbl&gt; |\n",
       "|---|---|---|---|---|---|---|---|---|---|---|---|---|---|---|---|---|---|---|---|---|\n",
       "| -1 | 5 | 2 | 2 | -1 | -1 | 2 | 1 |  1 |  1 | ⋯ |  1 | -1 | 4 | 2015 | NA | NA | NA | NA | NA | NA |\n",
       "| -1 | 5 | 2 | 2 | -1 | -1 | 2 | 1 |  2 |  1 | ⋯ | -1 | -1 | 2 | 2015 | NA | NA | NA | NA | NA | NA |\n",
       "| -1 | 5 | 2 | 2 | -1 | -1 | 2 | 1 |  1 |  1 | ⋯ | -1 | -1 | 2 | 2015 | NA | NA | NA | NA | NA | NA |\n",
       "| -1 | 5 | 2 | 2 | -1 | -1 | 1 | 1 |  1 |  1 | ⋯ | -1 | -1 | 2 | 2015 | NA | NA | NA | NA | NA | NA |\n",
       "| -1 | 3 | 2 | 1 | -1 |  2 | 1 | 1 |  1 |  1 | ⋯ | -1 | -1 | 1 | 2015 | NA | NA | NA | NA | NA | NA |\n",
       "| -1 | 5 | 2 | 2 | -1 |  2 | 1 | 2 | -1 | -1 | ⋯ | -1 | -1 | 1 | 2015 | NA | NA | NA | NA | NA | NA |\n",
       "\n"
      ],
      "text/plain": [
       "  AF66 AJ32 AB17 AB34 AG10 AG11 AG22 AH33NEW AH34NEW AH35NEW ⋯ AH43A AL22 AK28\n",
       "1 -1   5    2    2    -1   -1   2    1        1       1      ⋯  1    -1   4   \n",
       "2 -1   5    2    2    -1   -1   2    1        2       1      ⋯ -1    -1   2   \n",
       "3 -1   5    2    2    -1   -1   2    1        1       1      ⋯ -1    -1   2   \n",
       "4 -1   5    2    2    -1   -1   1    1        1       1      ⋯ -1    -1   2   \n",
       "5 -1   3    2    1    -1    2   1    1        1       1      ⋯ -1    -1   1   \n",
       "6 -1   5    2    2    -1    2   1    2       -1      -1      ⋯ -1    -1   1   \n",
       "  YEAR AK22_P1 RACEHP2_P1 AH130 AH85B AE_FRUIT AE_VEGI\n",
       "1 2015 NA      NA         NA    NA    NA       NA     \n",
       "2 2015 NA      NA         NA    NA    NA       NA     \n",
       "3 2015 NA      NA         NA    NA    NA       NA     \n",
       "4 2015 NA      NA         NA    NA    NA       NA     \n",
       "5 2015 NA      NA         NA    NA    NA       NA     \n",
       "6 2015 NA      NA         NA    NA    NA       NA     "
      ]
     },
     "metadata": {},
     "output_type": "display_data"
    }
   ],
   "source": [
    "# concatanate the data frames\n",
    "df = dplyr::bind_rows(df_array)\n",
    "\n",
    "dim(df)\n",
    "head(df)"
   ]
  },
  {
   "cell_type": "code",
   "execution_count": 61,
   "metadata": {
    "vscode": {
     "languageId": "r"
    }
   },
   "outputs": [],
   "source": [
    "# save the data frame as csv file\n",
    "write.csv(df, \"data/adult_2015_2019_vars_interest.csv\", row.names = FALSE)"
   ]
  },
  {
   "cell_type": "code",
   "execution_count": 63,
   "metadata": {
    "vscode": {
     "languageId": "r"
    }
   },
   "outputs": [
    {
     "data": {
      "text/html": [
       "<style>\n",
       ".list-inline {list-style: none; margin:0; padding: 0}\n",
       ".list-inline>li {display: inline-block}\n",
       ".list-inline>li:not(:last-child)::after {content: \"\\00b7\"; padding: 0 .5ex}\n",
       "</style>\n",
       "<ol class=list-inline><li>106579</li><li>45</li></ol>\n"
      ],
      "text/latex": [
       "\\begin{enumerate*}\n",
       "\\item 106579\n",
       "\\item 45\n",
       "\\end{enumerate*}\n"
      ],
      "text/markdown": [
       "1. 106579\n",
       "2. 45\n",
       "\n",
       "\n"
      ],
      "text/plain": [
       "[1] 106579     45"
      ]
     },
     "metadata": {},
     "output_type": "display_data"
    },
    {
     "data": {
      "text/html": [
       "<table class=\"dataframe\">\n",
       "<caption>A data.frame: 6 × 45</caption>\n",
       "<thead>\n",
       "\t<tr><th></th><th scope=col>AF66</th><th scope=col>AJ32</th><th scope=col>AB17</th><th scope=col>AB34</th><th scope=col>AG10</th><th scope=col>AG11</th><th scope=col>AG22</th><th scope=col>AH33NEW</th><th scope=col>AH34NEW</th><th scope=col>AH35NEW</th><th scope=col>⋯</th><th scope=col>AH43A</th><th scope=col>AL22</th><th scope=col>AK28</th><th scope=col>YEAR</th><th scope=col>AK22_P1</th><th scope=col>RACEHP2_P1</th><th scope=col>AH130</th><th scope=col>AH85B</th><th scope=col>AE_FRUIT</th><th scope=col>AE_VEGI</th></tr>\n",
       "\t<tr><th></th><th scope=col>&lt;int&gt;</th><th scope=col>&lt;int&gt;</th><th scope=col>&lt;int&gt;</th><th scope=col>&lt;int&gt;</th><th scope=col>&lt;int&gt;</th><th scope=col>&lt;int&gt;</th><th scope=col>&lt;int&gt;</th><th scope=col>&lt;int&gt;</th><th scope=col>&lt;int&gt;</th><th scope=col>&lt;int&gt;</th><th scope=col>⋯</th><th scope=col>&lt;int&gt;</th><th scope=col>&lt;int&gt;</th><th scope=col>&lt;int&gt;</th><th scope=col>&lt;int&gt;</th><th scope=col>&lt;int&gt;</th><th scope=col>&lt;int&gt;</th><th scope=col>&lt;int&gt;</th><th scope=col>&lt;int&gt;</th><th scope=col>&lt;int&gt;</th><th scope=col>&lt;int&gt;</th></tr>\n",
       "</thead>\n",
       "<tbody>\n",
       "\t<tr><th scope=row>1</th><td>-1</td><td>5</td><td>2</td><td>2</td><td>-1</td><td>-1</td><td>2</td><td>1</td><td> 1</td><td> 1</td><td>⋯</td><td> 1</td><td>-1</td><td>4</td><td>2015</td><td>NA</td><td>NA</td><td>NA</td><td>NA</td><td>NA</td><td>NA</td></tr>\n",
       "\t<tr><th scope=row>2</th><td>-1</td><td>5</td><td>2</td><td>2</td><td>-1</td><td>-1</td><td>2</td><td>1</td><td> 2</td><td> 1</td><td>⋯</td><td>-1</td><td>-1</td><td>2</td><td>2015</td><td>NA</td><td>NA</td><td>NA</td><td>NA</td><td>NA</td><td>NA</td></tr>\n",
       "\t<tr><th scope=row>3</th><td>-1</td><td>5</td><td>2</td><td>2</td><td>-1</td><td>-1</td><td>2</td><td>1</td><td> 1</td><td> 1</td><td>⋯</td><td>-1</td><td>-1</td><td>2</td><td>2015</td><td>NA</td><td>NA</td><td>NA</td><td>NA</td><td>NA</td><td>NA</td></tr>\n",
       "\t<tr><th scope=row>4</th><td>-1</td><td>5</td><td>2</td><td>2</td><td>-1</td><td>-1</td><td>1</td><td>1</td><td> 1</td><td> 1</td><td>⋯</td><td>-1</td><td>-1</td><td>2</td><td>2015</td><td>NA</td><td>NA</td><td>NA</td><td>NA</td><td>NA</td><td>NA</td></tr>\n",
       "\t<tr><th scope=row>5</th><td>-1</td><td>3</td><td>2</td><td>1</td><td>-1</td><td> 2</td><td>1</td><td>1</td><td> 1</td><td> 1</td><td>⋯</td><td>-1</td><td>-1</td><td>1</td><td>2015</td><td>NA</td><td>NA</td><td>NA</td><td>NA</td><td>NA</td><td>NA</td></tr>\n",
       "\t<tr><th scope=row>6</th><td>-1</td><td>5</td><td>2</td><td>2</td><td>-1</td><td> 2</td><td>1</td><td>2</td><td>-1</td><td>-1</td><td>⋯</td><td>-1</td><td>-1</td><td>1</td><td>2015</td><td>NA</td><td>NA</td><td>NA</td><td>NA</td><td>NA</td><td>NA</td></tr>\n",
       "</tbody>\n",
       "</table>\n"
      ],
      "text/latex": [
       "A data.frame: 6 × 45\n",
       "\\begin{tabular}{r|lllllllllllllllllllll}\n",
       "  & AF66 & AJ32 & AB17 & AB34 & AG10 & AG11 & AG22 & AH33NEW & AH34NEW & AH35NEW & ⋯ & AH43A & AL22 & AK28 & YEAR & AK22\\_P1 & RACEHP2\\_P1 & AH130 & AH85B & AE\\_FRUIT & AE\\_VEGI\\\\\n",
       "  & <int> & <int> & <int> & <int> & <int> & <int> & <int> & <int> & <int> & <int> & ⋯ & <int> & <int> & <int> & <int> & <int> & <int> & <int> & <int> & <int> & <int>\\\\\n",
       "\\hline\n",
       "\t1 & -1 & 5 & 2 & 2 & -1 & -1 & 2 & 1 &  1 &  1 & ⋯ &  1 & -1 & 4 & 2015 & NA & NA & NA & NA & NA & NA\\\\\n",
       "\t2 & -1 & 5 & 2 & 2 & -1 & -1 & 2 & 1 &  2 &  1 & ⋯ & -1 & -1 & 2 & 2015 & NA & NA & NA & NA & NA & NA\\\\\n",
       "\t3 & -1 & 5 & 2 & 2 & -1 & -1 & 2 & 1 &  1 &  1 & ⋯ & -1 & -1 & 2 & 2015 & NA & NA & NA & NA & NA & NA\\\\\n",
       "\t4 & -1 & 5 & 2 & 2 & -1 & -1 & 1 & 1 &  1 &  1 & ⋯ & -1 & -1 & 2 & 2015 & NA & NA & NA & NA & NA & NA\\\\\n",
       "\t5 & -1 & 3 & 2 & 1 & -1 &  2 & 1 & 1 &  1 &  1 & ⋯ & -1 & -1 & 1 & 2015 & NA & NA & NA & NA & NA & NA\\\\\n",
       "\t6 & -1 & 5 & 2 & 2 & -1 &  2 & 1 & 2 & -1 & -1 & ⋯ & -1 & -1 & 1 & 2015 & NA & NA & NA & NA & NA & NA\\\\\n",
       "\\end{tabular}\n"
      ],
      "text/markdown": [
       "\n",
       "A data.frame: 6 × 45\n",
       "\n",
       "| <!--/--> | AF66 &lt;int&gt; | AJ32 &lt;int&gt; | AB17 &lt;int&gt; | AB34 &lt;int&gt; | AG10 &lt;int&gt; | AG11 &lt;int&gt; | AG22 &lt;int&gt; | AH33NEW &lt;int&gt; | AH34NEW &lt;int&gt; | AH35NEW &lt;int&gt; | ⋯ ⋯ | AH43A &lt;int&gt; | AL22 &lt;int&gt; | AK28 &lt;int&gt; | YEAR &lt;int&gt; | AK22_P1 &lt;int&gt; | RACEHP2_P1 &lt;int&gt; | AH130 &lt;int&gt; | AH85B &lt;int&gt; | AE_FRUIT &lt;int&gt; | AE_VEGI &lt;int&gt; |\n",
       "|---|---|---|---|---|---|---|---|---|---|---|---|---|---|---|---|---|---|---|---|---|---|\n",
       "| 1 | -1 | 5 | 2 | 2 | -1 | -1 | 2 | 1 |  1 |  1 | ⋯ |  1 | -1 | 4 | 2015 | NA | NA | NA | NA | NA | NA |\n",
       "| 2 | -1 | 5 | 2 | 2 | -1 | -1 | 2 | 1 |  2 |  1 | ⋯ | -1 | -1 | 2 | 2015 | NA | NA | NA | NA | NA | NA |\n",
       "| 3 | -1 | 5 | 2 | 2 | -1 | -1 | 2 | 1 |  1 |  1 | ⋯ | -1 | -1 | 2 | 2015 | NA | NA | NA | NA | NA | NA |\n",
       "| 4 | -1 | 5 | 2 | 2 | -1 | -1 | 1 | 1 |  1 |  1 | ⋯ | -1 | -1 | 2 | 2015 | NA | NA | NA | NA | NA | NA |\n",
       "| 5 | -1 | 3 | 2 | 1 | -1 |  2 | 1 | 1 |  1 |  1 | ⋯ | -1 | -1 | 1 | 2015 | NA | NA | NA | NA | NA | NA |\n",
       "| 6 | -1 | 5 | 2 | 2 | -1 |  2 | 1 | 2 | -1 | -1 | ⋯ | -1 | -1 | 1 | 2015 | NA | NA | NA | NA | NA | NA |\n",
       "\n"
      ],
      "text/plain": [
       "  AF66 AJ32 AB17 AB34 AG10 AG11 AG22 AH33NEW AH34NEW AH35NEW ⋯ AH43A AL22 AK28\n",
       "1 -1   5    2    2    -1   -1   2    1        1       1      ⋯  1    -1   4   \n",
       "2 -1   5    2    2    -1   -1   2    1        2       1      ⋯ -1    -1   2   \n",
       "3 -1   5    2    2    -1   -1   2    1        1       1      ⋯ -1    -1   2   \n",
       "4 -1   5    2    2    -1   -1   1    1        1       1      ⋯ -1    -1   2   \n",
       "5 -1   3    2    1    -1    2   1    1        1       1      ⋯ -1    -1   1   \n",
       "6 -1   5    2    2    -1    2   1    2       -1      -1      ⋯ -1    -1   1   \n",
       "  YEAR AK22_P1 RACEHP2_P1 AH130 AH85B AE_FRUIT AE_VEGI\n",
       "1 2015 NA      NA         NA    NA    NA       NA     \n",
       "2 2015 NA      NA         NA    NA    NA       NA     \n",
       "3 2015 NA      NA         NA    NA    NA       NA     \n",
       "4 2015 NA      NA         NA    NA    NA       NA     \n",
       "5 2015 NA      NA         NA    NA    NA       NA     \n",
       "6 2015 NA      NA         NA    NA    NA       NA     "
      ]
     },
     "metadata": {},
     "output_type": "display_data"
    }
   ],
   "source": [
    "# read csv file to check if it was saved correctly\n",
    "df = read.csv(\"data/adult_2015_2019_vars_interest.csv\")\n",
    "\n",
    "dim(df)\n",
    "head(df)"
   ]
  }
 ],
 "metadata": {
  "kernelspec": {
   "display_name": "R",
   "language": "R",
   "name": "ir"
  },
  "language_info": {
   "codemirror_mode": "r",
   "file_extension": ".r",
   "mimetype": "text/x-r-source",
   "name": "R",
   "pygments_lexer": "r",
   "version": "4.2.3"
  },
  "orig_nbformat": 4
 },
 "nbformat": 4,
 "nbformat_minor": 2
}
